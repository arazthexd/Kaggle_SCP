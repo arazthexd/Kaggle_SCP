{
 "cells": [
  {
   "cell_type": "code",
   "execution_count": null,
   "metadata": {},
   "outputs": [],
   "source": [
    "def create_gene_atac3(atac, cor):\n",
    "    all_cor = cor.copy()\n",
    "    all_atac = atac.copy()\n",
    "\n",
    "    for chromosome in tqdm(all_cor[\"dhs_chr\"].unique()):\n",
    "        atac = all_atac[all_atac[\"chromosome\"]==chromosome]\n",
    "        cor = all_cor[all_cor[\"dhs_chr\"]==chromosome]\n",
    "\n",
    "        "
   ]
  }
 ],
 "metadata": {
  "language_info": {
   "name": "python"
  }
 },
 "nbformat": 4,
 "nbformat_minor": 2
}
