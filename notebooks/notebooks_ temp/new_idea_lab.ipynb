{
 "cells": [
  {
   "cell_type": "code",
   "execution_count": 1,
   "metadata": {},
   "outputs": [],
   "source": [
    "# Initial --> Terminal\n",
    "# Initial, Terminal --> DE"
   ]
  },
  {
   "cell_type": "code",
   "execution_count": 1,
   "metadata": {},
   "outputs": [],
   "source": [
    "import torch\n",
    "from torch import nn\n",
    "\n",
    "import warnings\n",
    "warnings.simplefilter(action='ignore', category=FutureWarning)\n",
    "import pandas as pd\n",
    "from pyarrow.parquet import ParquetFile, read_table\n",
    "import numpy as np\n",
    "\n",
    "from tqdm import tqdm\n",
    "\n",
    "data_dir = \"../../data\""
   ]
  },
  {
   "cell_type": "code",
   "execution_count": 2,
   "metadata": {},
   "outputs": [],
   "source": [
    "class Control2Pert(nn.Module):\n",
    "\n",
    "    def __init__(self, in_dim, bottle_dim, pert_dim, out_dim) -> None:\n",
    "        super().__init__()\n",
    "\n",
    "        self.enc_layer = nn.Sequential(\n",
    "            nn.Linear(in_dim, bottle_dim),\n",
    "            nn.ReLU()\n",
    "        )\n",
    "        self.dec_layer = nn.Sequential(\n",
    "            nn.Linear(bottle_dim+pert_dim, out_dim)\n",
    "        )\n",
    "    \n",
    "    def encode(self, x):\n",
    "        x = self.enc_layer(x)\n",
    "        return x\n",
    "    \n",
    "    def decode(self, x, pert):\n",
    "        x = torch.concat([x, pert], dim=1)\n",
    "        x = self.dec_layer(x)\n",
    "        return x\n",
    "    \n",
    "    def forward(self, x, pert):\n",
    "        x = self.encode(x)\n",
    "        x = self.decode(x, pert)\n",
    "        return x\n",
    "    \n",
    "    "
   ]
  },
  {
   "cell_type": "code",
   "execution_count": 3,
   "metadata": {},
   "outputs": [],
   "source": [
    "# TODO: Donor-Specific\n",
    "# Dimethyl Sulfoxide\n",
    "adata_meta = pd.read_csv(f\"{data_dir}/adata_obs_meta.csv\")\n",
    "cell_types = list(adata_meta[\"cell_type\"].unique())\n",
    "mol_types = list(adata_meta[\"sm_name\"].unique())\n",
    "\n",
    "adata_file = ParquetFile(f\"{data_dir}/adata_train.parquet\")\n",
    "# adata_df = adata_file.read_row_groups(list(range(200))).to_pandas()\n",
    "adata_df = adata_file.read(columns=[\"obs_id\", \"gene\", \"normalized_count\"]).to_pandas()\n",
    "# adata_df = read_table(f\"{data_dir}/adata_train.parquet\").to_pandas()\n",
    "gene_names = list(adata_df[\"gene\"].unique())\n",
    "\n",
    "data_array = np.array(np.zeros((\n",
    "    len(gene_names), len(mol_types), len(cell_types)\n",
    ")))"
   ]
  },
  {
   "cell_type": "code",
   "execution_count": 5,
   "metadata": {},
   "outputs": [
    {
     "data": {
      "text/plain": [
       "(21255, 147, 6)"
      ]
     },
     "execution_count": 5,
     "metadata": {},
     "output_type": "execute_result"
    }
   ],
   "source": [
    "data_array.shape"
   ]
  },
  {
   "cell_type": "code",
   "execution_count": 6,
   "metadata": {},
   "outputs": [],
   "source": [
    "import warnings\n",
    "warnings.filterwarnings('ignore')\n",
    "\n",
    "# for k in tqdm(range(0,1588,100)):\n",
    "#     df = adata_file.read_row_groups(list(range(k,k+100))).to_pandas()\n",
    "#     df.to_csv(f\"{data_dir}/temp/adata_{k}.csv\")\n",
    "# df = adata_file.read_row_groups(list(range(1500,1588))).to_pandas()\n",
    "# df.to_csv(f\"{data_dir}/temp/adata_1500.csv\")"
   ]
  },
  {
   "cell_type": "code",
   "execution_count": 9,
   "metadata": {},
   "outputs": [
    {
     "name": "stdout",
     "output_type": "stream",
     "text": [
      "cell 0 which is T cells CD4+\n"
     ]
    },
    {
     "name": "stderr",
     "output_type": "stream",
     "text": [
      "100%|██████████| 147/147 [46:39<00:00, 19.05s/it] \n"
     ]
    },
    {
     "name": "stdout",
     "output_type": "stream",
     "text": [
      "cell 1 which is T regulatory cells\n"
     ]
    },
    {
     "name": "stderr",
     "output_type": "stream",
     "text": [
      "100%|██████████| 147/147 [36:14<00:00, 14.79s/it]\n"
     ]
    },
    {
     "name": "stdout",
     "output_type": "stream",
     "text": [
      "cell 2 which is T cells CD8+\n"
     ]
    },
    {
     "name": "stderr",
     "output_type": "stream",
     "text": [
      "100%|██████████| 147/147 [36:32<00:00, 14.91s/it]\n"
     ]
    },
    {
     "name": "stdout",
     "output_type": "stream",
     "text": [
      "cell 3 which is NK cells\n"
     ]
    },
    {
     "name": "stderr",
     "output_type": "stream",
     "text": [
      "100%|██████████| 147/147 [43:11<00:00, 17.63s/it]\n"
     ]
    },
    {
     "name": "stdout",
     "output_type": "stream",
     "text": [
      "cell 4 which is B cells\n"
     ]
    },
    {
     "name": "stderr",
     "output_type": "stream",
     "text": [
      "100%|██████████| 147/147 [12:31<00:00,  5.11s/it]\n"
     ]
    },
    {
     "name": "stdout",
     "output_type": "stream",
     "text": [
      "cell 5 which is Myeloid cells\n"
     ]
    },
    {
     "name": "stderr",
     "output_type": "stream",
     "text": [
      "100%|██████████| 147/147 [14:02<00:00,  5.73s/it]\n"
     ]
    }
   ],
   "source": [
    "data_array = np.array(np.zeros((\n",
    "    2, len(gene_names), len(mol_types), len(cell_types)\n",
    ")))\n",
    "\n",
    "for i, cell_type in enumerate(cell_types):\n",
    "    print (\"cell\", i, \"which is\", cell_type)\n",
    "    for j, mol in enumerate(tqdm(mol_types)):\n",
    "        wanted_ids = adata_meta[adata_meta[\"cell_type\"]==cell_type][\n",
    "            adata_meta[\"sm_name\"]==mol][\"obs_id\"]\n",
    "        wanted_df = pd.DataFrame()\n",
    "        # for k in range(0,1588,300):\n",
    "        #     if k>1499:\n",
    "        #         df = adata_file.read_row_groups(list(range(k,1588))).to_pandas()\n",
    "        #     else: \n",
    "        #         df = adata_file.read_row_groups(list(range(k,k+100))).to_pandas()\n",
    "            # df = pd.read_csv(f\"{data_dir}/temp/adata_{k}.csv\")\n",
    "            # df = df[df[\"obs_id\"].isin(wanted_ids)]\n",
    "            # wanted_df = pd.concat([wanted_df, df], axis=0)\n",
    "            # del df\n",
    "        wanted_df = adata_df[adata_df[\"obs_id\"].isin(wanted_ids)]\n",
    "        wanted_pivot = wanted_df.pivot_table(\"normalized_count\", \"obs_id\", \"gene\")\n",
    "        wanted_means = pd.Series([-1]*len(gene_names), index=gene_names)\n",
    "        wanted_means[list(wanted_pivot.columns)] = wanted_pivot.mean()\n",
    "        wanted_stds = pd.Series([-1]*len(gene_names), index=gene_names)\n",
    "        wanted_stds[list(wanted_pivot.columns)] = wanted_pivot.std()\n",
    "        data_array[0, :, j, i] = wanted_means.to_numpy()\n",
    "        data_array[1, :, j, i] = wanted_stds.to_numpy()\n",
    "        # print(\"done:\", \"cell\", i, \"mol\", j, end=\"\\r\")"
   ]
  },
  {
   "cell_type": "code",
   "execution_count": 10,
   "metadata": {},
   "outputs": [],
   "source": [
    "with open(f\"{data_dir}/adata.npy\", \"wb\") as f:\n",
    "    np.save(f, data_array)"
   ]
  },
  {
   "cell_type": "code",
   "execution_count": 11,
   "metadata": {},
   "outputs": [],
   "source": [
    "import pickle as pkl\n",
    "with open(f\"{data_dir}/adata.npy.meta.pickle\", \"wb\") as f:\n",
    "    save_dict = {\n",
    "        \"gene_names\": gene_names,\n",
    "        \"mols\": mol_types,\n",
    "        \"cell_types\": cell_types,\n",
    "    }\n",
    "    pkl.dump(save_dict, f)"
   ]
  },
  {
   "cell_type": "code",
   "execution_count": 14,
   "metadata": {},
   "outputs": [],
   "source": [
    "import pickle as pkl\n",
    "with open(f\"{data_dir}/adata.npy\", \"rb\") as f:\n",
    "    data = np.load(f)\n",
    "with open(f\"{data_dir}/adata.npy.meta.pickle\", \"rb\") as f:\n",
    "    meta = pkl.load(f)"
   ]
  },
  {
   "cell_type": "code",
   "execution_count": 21,
   "metadata": {},
   "outputs": [
    {
     "data": {
      "text/plain": [
       "0.3770376558056768"
      ]
     },
     "execution_count": 21,
     "metadata": {},
     "output_type": "execute_result"
    }
   ],
   "source": [
    "(data[:, :, :, 0:4]==-1).sum()/data[:, :, :, 0:4].size"
   ]
  },
  {
   "cell_type": "code",
   "execution_count": 57,
   "metadata": {},
   "outputs": [],
   "source": [
    "import matplotlib.pyplot as plt"
   ]
  },
  {
   "cell_type": "code",
   "execution_count": 58,
   "metadata": {},
   "outputs": [
    {
     "data": {
      "text/plain": [
       "(array([  2.,   0.,   0.,   0.,   0.,   2.,   5., 132.,   3.,   3.]),\n",
       " array([ 6219. ,  7640.3,  9061.6, 10482.9, 11904.2, 13325.5, 14746.8,\n",
       "        16168.1, 17589.4, 19010.7, 20432. ]),\n",
       " <BarContainer object of 10 artists>)"
      ]
     },
     "execution_count": 58,
     "metadata": {},
     "output_type": "execute_result"
    },
    {
     "data": {
      "image/png": "[encoded data removed]",
      "text/plain": [
       "<Figure size 640x480 with 1 Axes>"
      ]
     },
     "metadata": {},
     "output_type": "display_data"
    }
   ],
   "source": [
    "plt.hist(((data[0, :, :, 0].squeeze()>0).sum(axis=0)))"
   ]
  },
  {
   "cell_type": "code",
   "execution_count": null,
   "metadata": {},
   "outputs": [],
   "source": [
    "from tqdm import tqdm\n",
    "\n",
    "import torch\n",
    "\n",
    "### FUNCTIONS ###\n",
    "def loss_mrrmse(y_pred, y_true):\n",
    "\n",
    "    loss = (y_true - y_pred) ** 2\n",
    "    loss = loss.mean(dim=1)\n",
    "    loss = torch.sqrt(loss)\n",
    "    loss = loss.mean(dim=0)\n",
    "\n",
    "    return loss\n",
    "\n",
    "def train_one_epoch(model, train_loader, loss_fn, \n",
    "                    optimizer, device):\n",
    "\n",
    "    # Send model to device\n",
    "    model.to(device)\n",
    "\n",
    "    # Set model to train mode\n",
    "    model.train()\n",
    "\n",
    "    # Iterate over batches and take optimization steps\n",
    "    losses = []\n",
    "    for batch in train_loader:\n",
    "\n",
    "        x_batch, y_batch = batch\n",
    "        y_batch = y_batch.to(device)\n",
    "        y_pred = model(*x_batch, device) # TODO: Send to device the x in model?\n",
    "\n",
    "        loss = loss_fn(y_pred, y_batch)\n",
    "        optimizer.zero_grad()\n",
    "        loss.backward()\n",
    "        optimizer.step()\n",
    "\n",
    "        losses.append(loss)\n",
    "     \n",
    "    return losses\n",
    "\n",
    "def infer_model(model, data_loader, loss_fn, \n",
    "                metrics: dict, device, calculate_loss=False):\n",
    "\n",
    "    data_len = len(data_loader)\n",
    "    \n",
    "    # Send model to device\n",
    "    model.to(device)\n",
    "\n",
    "    # Set model to evaluation mode\n",
    "    model.eval()\n",
    "\n",
    "    # Create Output Dict\n",
    "    metric_values = dict()\n",
    "    for metric_name in metrics:\n",
    "        metric_values[metric_name] = 0\n",
    "\n",
    "    with torch.no_grad():\n",
    "        \n",
    "        losses = []\n",
    "        for batch in data_loader:\n",
    "\n",
    "            x_batch, y_batch = batch\n",
    "            y_batch = y_batch.to(device)\n",
    "            print(x_batch)\n",
    "            y_pred = model(*x_batch, device)\n",
    "\n",
    "            if calculate_loss:\n",
    "                loss = loss_fn(y_pred, y_batch)\n",
    "                losses.append(loss)\n",
    "\n",
    "            for metric_name in metrics:\n",
    "                metric_value = metrics[metric_name](y_pred, y_batch)\n",
    "                metric_values[metric_name] += (metric_value / data_len)\n",
    "\n",
    "    if calculate_loss:\n",
    "        return losses, metric_values\n",
    "    else:\n",
    "        return metric_values\n",
    "        \n",
    "def train_many_epochs(model, train_loader, val_loader, epochs,\n",
    "                      loss_fn, optimizer, scheduler=None, \n",
    "                      metrics=[], writer=None, device=\"cpu\"):\n",
    "    \n",
    "    for epoch in tqdm(range(epochs)):\n",
    "\n",
    "        # Train model for one epoch and calculate metrics for the \n",
    "        # resulting model...\n",
    "        train_b_losses = train_one_epoch(model, train_loader, loss_fn, \n",
    "                                         optimizer, device)\n",
    "        train_b_metrics = infer_model(model, train_loader, loss_fn, \n",
    "                                      metrics, device)\n",
    "        val_b_losses, val_b_metrics = infer_model(model, val_loader, loss_fn, \n",
    "                                    metrics, device, calculate_loss=True)\n",
    "        \n",
    "        epoch_train_loss = sum(train_b_losses) / len(train_b_losses)\n",
    "        epoch_val_loss = sum(val_b_losses) / len(val_b_losses)\n",
    "        if writer:\n",
    "            writer.add_scalar(\"Training Loss\", epoch_train_loss, global_step=epoch)\n",
    "            writer.add_scalar(\"Validation Loss\", epoch_val_loss, global_step=epoch)\n",
    "        if scheduler:\n",
    "            scheduler.step(epoch_train_loss)"
   ]
  },
  {
   "cell_type": "code",
   "execution_count": 20,
   "metadata": {},
   "outputs": [
    {
     "data": {
      "text/plain": [
       "(2, 21255, 147, 6)"
      ]
     },
     "execution_count": 20,
     "metadata": {},
     "output_type": "execute_result"
    }
   ],
   "source": [
    "data.shape"
   ]
  },
  {
   "cell_type": "code",
   "execution_count": 69,
   "metadata": {},
   "outputs": [
    {
     "data": {
      "text/plain": [
       "15"
      ]
     },
     "execution_count": 69,
     "metadata": {},
     "output_type": "execute_result"
    }
   ],
   "source": [
    "meta[\"mols\"].index(\"Dimethyl Sulfoxide\")"
   ]
  },
  {
   "cell_type": "code",
   "execution_count": 83,
   "metadata": {},
   "outputs": [
    {
     "ename": "ModuleNotFoundError",
     "evalue": "No module named 'tensorflow'",
     "output_type": "error",
     "traceback": [
      "\u001b[1;31m---------------------------------------------------------------------------\u001b[0m",
      "\u001b[1;31mModuleNotFoundError\u001b[0m                       Traceback (most recent call last)",
      "\u001b[1;32mc:\\Users\\ghanb\\Desktop\\Main\\Projects\\Kaggle_SCP\\notebooks\\notebooks_ temp\\new_idea_lab.ipynb Cell 17\u001b[0m line \u001b[0;36m1\n\u001b[1;32m----> <a href='vscode-notebook-cell:/c%3A/Users/ghanb/Desktop/Main/Projects/Kaggle_SCP/notebooks/notebooks_%20temp/new_idea_lab.ipynb#X15sZmlsZQ%3D%3D?line=0'>1</a>\u001b[0m \u001b[39mimport\u001b[39;00m \u001b[39mdeepchem\u001b[39;00m \u001b[39mas\u001b[39;00m \u001b[39mdc\u001b[39;00m\n",
      "File \u001b[1;32mc:\\Users\\ghanb\\anaconda3\\envs\\cheminfo\\Lib\\site-packages\\deepchem\\__init__.py:10\u001b[0m\n\u001b[0;32m      8\u001b[0m \u001b[39mimport\u001b[39;00m \u001b[39mdeepchem\u001b[39;00m\u001b[39m.\u001b[39;00m\u001b[39mdata\u001b[39;00m\n\u001b[0;32m      9\u001b[0m \u001b[39mimport\u001b[39;00m \u001b[39mdeepchem\u001b[39;00m\u001b[39m.\u001b[39;00m\u001b[39mfeat\u001b[39;00m\n\u001b[1;32m---> 10\u001b[0m \u001b[39mimport\u001b[39;00m \u001b[39mdeepchem\u001b[39;00m\u001b[39m.\u001b[39;00m\u001b[39mhyper\u001b[39;00m\n\u001b[0;32m     11\u001b[0m \u001b[39mimport\u001b[39;00m \u001b[39mdeepchem\u001b[39;00m\u001b[39m.\u001b[39;00m\u001b[39mmetalearning\u001b[39;00m\n\u001b[0;32m     12\u001b[0m \u001b[39mimport\u001b[39;00m \u001b[39mdeepchem\u001b[39;00m\u001b[39m.\u001b[39;00m\u001b[39mmetrics\u001b[39;00m\n",
      "File \u001b[1;32mc:\\Users\\ghanb\\anaconda3\\envs\\cheminfo\\Lib\\site-packages\\deepchem\\hyper\\__init__.py:2\u001b[0m\n\u001b[0;32m      1\u001b[0m \u001b[39m# flake8: noqa\u001b[39;00m\n\u001b[1;32m----> 2\u001b[0m \u001b[39mfrom\u001b[39;00m \u001b[39mdeepchem\u001b[39;00m\u001b[39m.\u001b[39;00m\u001b[39mhyper\u001b[39;00m\u001b[39m.\u001b[39;00m\u001b[39mbase_classes\u001b[39;00m \u001b[39mimport\u001b[39;00m HyperparamOpt\n\u001b[0;32m      3\u001b[0m \u001b[39mfrom\u001b[39;00m \u001b[39mdeepchem\u001b[39;00m\u001b[39m.\u001b[39;00m\u001b[39mhyper\u001b[39;00m\u001b[39m.\u001b[39;00m\u001b[39mgrid_search\u001b[39;00m \u001b[39mimport\u001b[39;00m GridHyperparamOpt\n\u001b[0;32m      4\u001b[0m \u001b[39mfrom\u001b[39;00m \u001b[39mdeepchem\u001b[39;00m\u001b[39m.\u001b[39;00m\u001b[39mhyper\u001b[39;00m\u001b[39m.\u001b[39;00m\u001b[39mgaussian_process\u001b[39;00m \u001b[39mimport\u001b[39;00m GaussianProcessHyperparamOpt\n",
      "File \u001b[1;32mc:\\Users\\ghanb\\anaconda3\\envs\\cheminfo\\Lib\\site-packages\\deepchem\\hyper\\base_classes.py:5\u001b[0m\n\u001b[0;32m      2\u001b[0m \u001b[39mfrom\u001b[39;00m \u001b[39mtyping\u001b[39;00m \u001b[39mimport\u001b[39;00m Any, Callable, Dict, List, Optional, Tuple\n\u001b[0;32m      4\u001b[0m \u001b[39mfrom\u001b[39;00m \u001b[39mdeepchem\u001b[39;00m\u001b[39m.\u001b[39;00m\u001b[39mdata\u001b[39;00m \u001b[39mimport\u001b[39;00m Dataset\n\u001b[1;32m----> 5\u001b[0m \u001b[39mfrom\u001b[39;00m \u001b[39mdeepchem\u001b[39;00m\u001b[39m.\u001b[39;00m\u001b[39mtrans\u001b[39;00m \u001b[39mimport\u001b[39;00m Transformer\n\u001b[0;32m      6\u001b[0m \u001b[39mfrom\u001b[39;00m \u001b[39mdeepchem\u001b[39;00m\u001b[39m.\u001b[39;00m\u001b[39mmodels\u001b[39;00m \u001b[39mimport\u001b[39;00m Model\n\u001b[0;32m      7\u001b[0m \u001b[39mfrom\u001b[39;00m \u001b[39mdeepchem\u001b[39;00m\u001b[39m.\u001b[39;00m\u001b[39mmetrics\u001b[39;00m \u001b[39mimport\u001b[39;00m Metric\n",
      "File \u001b[1;32mc:\\Users\\ghanb\\anaconda3\\envs\\cheminfo\\Lib\\site-packages\\deepchem\\trans\\__init__.py:6\u001b[0m\n\u001b[0;32m      1\u001b[0m \u001b[39m\"\"\"\u001b[39;00m\n\u001b[0;32m      2\u001b[0m \u001b[39mGathers all transformers in one place for convenient imports\u001b[39;00m\n\u001b[0;32m      3\u001b[0m \u001b[39m\"\"\"\u001b[39;00m\n\u001b[0;32m      4\u001b[0m \u001b[39m# flake8: noqa\u001b[39;00m\n\u001b[1;32m----> 6\u001b[0m \u001b[39mfrom\u001b[39;00m \u001b[39mdeepchem\u001b[39;00m\u001b[39m.\u001b[39;00m\u001b[39mtrans\u001b[39;00m\u001b[39m.\u001b[39;00m\u001b[39mtransformers\u001b[39;00m \u001b[39mimport\u001b[39;00m undo_transforms\n\u001b[0;32m      7\u001b[0m \u001b[39mfrom\u001b[39;00m \u001b[39mdeepchem\u001b[39;00m\u001b[39m.\u001b[39;00m\u001b[39mtrans\u001b[39;00m\u001b[39m.\u001b[39;00m\u001b[39mtransformers\u001b[39;00m \u001b[39mimport\u001b[39;00m undo_grad_transforms\n\u001b[0;32m      8\u001b[0m \u001b[39mfrom\u001b[39;00m \u001b[39mdeepchem\u001b[39;00m\u001b[39m.\u001b[39;00m\u001b[39mtrans\u001b[39;00m\u001b[39m.\u001b[39;00m\u001b[39mtransformers\u001b[39;00m \u001b[39mimport\u001b[39;00m Transformer\n",
      "File \u001b[1;32mc:\\Users\\ghanb\\anaconda3\\envs\\cheminfo\\Lib\\site-packages\\deepchem\\trans\\transformers.py:13\u001b[0m\n\u001b[0;32m     11\u001b[0m \u001b[39mimport\u001b[39;00m \u001b[39mscipy\u001b[39;00m\n\u001b[0;32m     12\u001b[0m \u001b[39mimport\u001b[39;00m \u001b[39mscipy\u001b[39;00m\u001b[39m.\u001b[39;00m\u001b[39mndimage\u001b[39;00m\n\u001b[1;32m---> 13\u001b[0m \u001b[39mimport\u001b[39;00m \u001b[39mtensorflow\u001b[39;00m \u001b[39mas\u001b[39;00m \u001b[39mtf\u001b[39;00m\n\u001b[0;32m     15\u001b[0m \u001b[39mimport\u001b[39;00m \u001b[39mdeepchem\u001b[39;00m \u001b[39mas\u001b[39;00m \u001b[39mdc\u001b[39;00m\n\u001b[0;32m     16\u001b[0m \u001b[39mfrom\u001b[39;00m \u001b[39mdeepchem\u001b[39;00m\u001b[39m.\u001b[39;00m\u001b[39mdata\u001b[39;00m \u001b[39mimport\u001b[39;00m Dataset, NumpyDataset, DiskDataset\n",
      "\u001b[1;31mModuleNotFoundError\u001b[0m: No module named 'tensorflow'"
     ]
    }
   ],
   "source": [
    "import deepchem as dc"
   ]
  },
  {
   "cell_type": "code",
   "execution_count": 86,
   "metadata": {},
   "outputs": [
    {
     "data": {
      "text/plain": [
       "1"
      ]
     },
     "execution_count": 86,
     "metadata": {},
     "output_type": "execute_result"
    }
   ],
   "source": [
    "slice(1, 4, 1).start"
   ]
  }
 ],
 "metadata": {
  "kernelspec": {
   "display_name": "cheminfo",
   "language": "python",
   "name": "python3"
  },
  "language_info": {
   "codemirror_mode": {
    "name": "ipython",
    "version": 3
   },
   "file_extension": ".py",
   "mimetype": "text/x-python",
   "name": "python",
   "nbconvert_exporter": "python",
   "pygments_lexer": "ipython3",
   "version": "3.11.4"
  }
 },
 "nbformat": 4,
 "nbformat_minor": 2
}
