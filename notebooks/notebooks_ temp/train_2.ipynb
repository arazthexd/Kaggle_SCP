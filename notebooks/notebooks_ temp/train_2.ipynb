{
 "cells": [
  {
   "cell_type": "code",
   "execution_count": 1,
   "metadata": {},
   "outputs": [],
   "source": [
    "import sys\n",
    "sys.path.append(\"..\")\n",
    "\n",
    "from data_utils import SCPDataSet, stratified_split\n",
    "from data_utils import Sm2Smiles, Smiles2Mol, Mol2Morgan, Type2OneHot\n",
    "from train import train_many_epochs, loss_fn\n",
    "from model import *\n",
    "\n",
    "import torch\n",
    "from torch.optim import SGD, Adam\n",
    "import torch.optim.lr_scheduler as lr_scheduler\n",
    "from torch.utils.data import DataLoader\n",
    "\n",
    "from torch.utils.tensorboard import SummaryWriter\n",
    "\n",
    "from sklearn.model_selection import KFold\n",
    "\n",
    "import pandas as pd"
   ]
  },
  {
   "cell_type": "code",
   "execution_count": 2,
   "metadata": {},
   "outputs": [],
   "source": [
    "de_train = pd.read_parquet(\"../data/de_train.parquet\")"
   ]
  },
  {
   "cell_type": "code",
   "execution_count": 3,
   "metadata": {},
   "outputs": [],
   "source": [
    "import os\n",
    "os.chdir(\"..\")"
   ]
  },
  {
   "cell_type": "code",
   "execution_count": 4,
   "metadata": {},
   "outputs": [],
   "source": [
    "sm_smiles_df = pd.read_csv(\"config/sm_smiles.csv\")\n",
    "sm_smiles_dict = sm_smiles_df.set_index(\"sm_name\").to_dict()[\"SMILES\"]\n",
    "ctypes = de_train['cell_type'].unique()\n",
    "mtypes = de_train['sm_name'].unique()"
   ]
  },
  {
   "cell_type": "code",
   "execution_count": 5,
   "metadata": {},
   "outputs": [],
   "source": [
    "#### MODEL ####\n",
    "mol_enc = nn.Sequential(\n",
    "    nn.Linear(2048, 200)\n",
    ")\n",
    "cell_enc = nn.Sequential(\n",
    "    nn.Linear(len(ctypes), 10)\n",
    ")\n",
    "regressor = nn.Sequential(\n",
    "    nn.Linear(210, 100),\n",
    "    nn.Tanh(),\n",
    "    nn.Dropout(0.2),\n",
    "    nn.Linear(100, 100),\n",
    "    nn.Tanh(),\n",
    "    nn.Dropout(0.2),\n",
    "    nn.Linear(100, 500),\n",
    "    nn.Tanh(),\n",
    "    nn.Linear(500, len(de_train.columns)-5)\n",
    ")\n",
    "\n",
    "model = CombinerModel(\n",
    "        mol_encoder=mol_enc,\n",
    "        cell_encoder=cell_enc,\n",
    "        regressor=regressor)\n",
    "torch.save(model.state_dict(), \"temp/ini_model.pkl\")\n",
    "\n",
    "#### LOADERS, DATA ####\n",
    "train_index, val_index = stratified_split(list(de_train['cell_type']), 0.30, 194)\n",
    "train_df = de_train.iloc[train_index]\n",
    "val_df = de_train.iloc[val_index]\n",
    "\n",
    "train_dataset = SCPDataSet(train_df)\n",
    "val_dataset = SCPDataSet(val_df)\n",
    "train_dataloader = DataLoader(train_dataset, 256)\n",
    "val_dataloader = DataLoader(val_dataset, 256)\n",
    "\n",
    "#### CONFIG ####\n",
    "lr = 0.01\n",
    "epochs = 45\n",
    "device = \"cuda:0\"\n",
    "\n",
    "loss_fn = loss_fn\n",
    "optimizer = Adam(model.parameters(), lr=lr)\n",
    "scheduler = lr_scheduler.ReduceLROnPlateau(optimizer, mode=\"min\", factor=0.8, patience=7)\n",
    "\n",
    "#### TENSORBOARD ####\n",
    "writer = SummaryWriter(\"./runs/kaggle/trying_out\")"
   ]
  },
  {
   "cell_type": "code",
   "execution_count": null,
   "metadata": {},
   "outputs": [],
   "source": []
  },
  {
   "cell_type": "code",
   "execution_count": 6,
   "metadata": {},
   "outputs": [
    {
     "ename": "ValueError",
     "evalue": "too many values to unpack (expected 2)",
     "output_type": "error",
     "traceback": [
      "\u001b[1;31m---------------------------------------------------------------------------\u001b[0m",
      "\u001b[1;31mValueError\u001b[0m                                Traceback (most recent call last)",
      "\u001b[1;32mc:\\Users\\ghanb\\Desktop\\Main\\Projects\\Kaggle_SCP\\notebooks\\train_2.ipynb Cell 7\u001b[0m line \u001b[0;36m1\n\u001b[1;32m----> <a href='vscode-notebook-cell:/c%3A/Users/ghanb/Desktop/Main/Projects/Kaggle_SCP/notebooks/train_2.ipynb#W6sZmlsZQ%3D%3D?line=0'>1</a>\u001b[0m train_many_epochs(model, train_dataloader, val_dataloader, epochs, loss_fn, optimizer, scheduler\u001b[39m=\u001b[39;49mscheduler,\n\u001b[0;32m      <a href='vscode-notebook-cell:/c%3A/Users/ghanb/Desktop/Main/Projects/Kaggle_SCP/notebooks/train_2.ipynb#W6sZmlsZQ%3D%3D?line=1'>2</a>\u001b[0m                   writer\u001b[39m=\u001b[39;49mwriter, device\u001b[39m=\u001b[39;49mdevice)\n",
      "File \u001b[1;32mc:\\Users\\ghanb\\Desktop\\Main\\Projects\\Kaggle_SCP\\notebooks\\..\\train.py:88\u001b[0m, in \u001b[0;36mtrain_many_epochs\u001b[1;34m(model, train_loader, val_loader, epochs, loss_fn, optimizer, scheduler, metrics, writer, device)\u001b[0m\n\u001b[0;32m     80\u001b[0m \u001b[39mdef\u001b[39;00m \u001b[39mtrain_many_epochs\u001b[39m(model, train_loader, val_loader, epochs,\n\u001b[0;32m     81\u001b[0m                       loss_fn, optimizer, scheduler\u001b[39m=\u001b[39m\u001b[39mNone\u001b[39;00m, \n\u001b[0;32m     82\u001b[0m                       metrics\u001b[39m=\u001b[39m[], writer\u001b[39m=\u001b[39m\u001b[39mNone\u001b[39;00m, device\u001b[39m=\u001b[39m\u001b[39m\"\u001b[39m\u001b[39mcpu\u001b[39m\u001b[39m\"\u001b[39m):\n\u001b[0;32m     84\u001b[0m     \u001b[39mfor\u001b[39;00m epoch \u001b[39min\u001b[39;00m \u001b[39mrange\u001b[39m(epochs):\n\u001b[0;32m     85\u001b[0m \n\u001b[0;32m     86\u001b[0m         \u001b[39m# Train model for one epoch and calculate metrics for the \u001b[39;00m\n\u001b[0;32m     87\u001b[0m         \u001b[39m# resulting model...\u001b[39;00m\n\u001b[1;32m---> 88\u001b[0m         train_b_losses \u001b[39m=\u001b[39m train_one_epoch(model, train_loader, loss_fn, \n\u001b[0;32m     89\u001b[0m                                          optimizer, device)\n\u001b[0;32m     90\u001b[0m         train_b_metrics \u001b[39m=\u001b[39m infer_model(model, train_loader, loss_fn, \n\u001b[0;32m     91\u001b[0m                                       metrics, device)\n\u001b[0;32m     92\u001b[0m         val_b_losses, val_b_metrics \u001b[39m=\u001b[39m infer_model(model, val_loader, loss_fn, \n\u001b[0;32m     93\u001b[0m                                     metrics, device, calculate_loss\u001b[39m=\u001b[39m\u001b[39mTrue\u001b[39;00m)\n",
      "File \u001b[1;32mc:\\Users\\ghanb\\Desktop\\Main\\Projects\\Kaggle_SCP\\notebooks\\..\\train.py:29\u001b[0m, in \u001b[0;36mtrain_one_epoch\u001b[1;34m(model, train_loader, loss_fn, optimizer, device)\u001b[0m\n\u001b[0;32m     26\u001b[0m losses \u001b[39m=\u001b[39m []\n\u001b[0;32m     27\u001b[0m \u001b[39mfor\u001b[39;00m batch \u001b[39min\u001b[39;00m train_loader:\n\u001b[1;32m---> 29\u001b[0m     x_batch, y_batch \u001b[39m=\u001b[39m batch\n\u001b[0;32m     30\u001b[0m     y_batch \u001b[39m=\u001b[39m y_batch\u001b[39m.\u001b[39mto(device)\n\u001b[0;32m     31\u001b[0m     y_pred \u001b[39m=\u001b[39m model(x_batch, device) \u001b[39m# TODO: Send to device the x in model?\u001b[39;00m\n",
      "\u001b[1;31mValueError\u001b[0m: too many values to unpack (expected 2)"
     ]
    }
   ],
   "source": [
    "train_many_epochs(model, train_dataloader, val_dataloader, epochs, loss_fn, optimizer, scheduler=scheduler,\n",
    "                  writer=writer, device=device)"
   ]
  }
 ],
 "metadata": {
  "kernelspec": {
   "display_name": "pytorch2",
   "language": "python",
   "name": "python3"
  },
  "language_info": {
   "codemirror_mode": {
    "name": "ipython",
    "version": 3
   },
   "file_extension": ".py",
   "mimetype": "text/x-python",
   "name": "python",
   "nbconvert_exporter": "python",
   "pygments_lexer": "ipython3",
   "version": "3.11.4"
  }
 },
 "nbformat": 4,
 "nbformat_minor": 2
}
