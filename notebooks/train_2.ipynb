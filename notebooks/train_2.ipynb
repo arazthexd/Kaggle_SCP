{
 "cells": [
  {
   "cell_type": "code",
   "execution_count": 1,
   "metadata": {},
   "outputs": [],
   "source": [
    "import sys\n",
    "sys.path.append(\"..\")\n",
    "\n",
    "from data_utils import SCPDataSet, stratified_split\n",
    "from data_utils import Sm2Smiles, Smiles2Mol, Mol2Morgan, Type2OneHot\n",
    "from train import train_many_epochs, loss_fn\n",
    "from model import *\n",
    "\n",
    "import torch\n",
    "from torch.optim import SGD, Adam\n",
    "import torch.optim.lr_scheduler as lr_scheduler\n",
    "from torch.utils.data import DataLoader\n",
    "\n",
    "from torch.utils.tensorboard import SummaryWriter\n",
    "\n",
    "from sklearn.model_selection import KFold\n",
    "\n",
    "import pandas as pd"
   ]
  },
  {
   "cell_type": "code",
   "execution_count": 2,
   "metadata": {},
   "outputs": [],
   "source": [
    "de_train = pd.read_parquet(\"../data/de_train.parquet\")"
   ]
  },
  {
   "cell_type": "code",
   "execution_count": 3,
   "metadata": {},
   "outputs": [],
   "source": [
    "import os\n",
    "os.chdir(\"..\")"
   ]
  },
  {
   "cell_type": "code",
   "execution_count": 4,
   "metadata": {},
   "outputs": [],
   "source": [
    "sm_smiles_df = pd.read_csv(\"config/sm_smiles.csv\")\n",
    "sm_smiles_dict = sm_smiles_df.set_index(\"sm_name\").to_dict()[\"SMILES\"]\n",
    "ctypes = de_train['cell_type'].unique()\n",
    "mtypes = de_train['sm_name'].unique()"
   ]
  },
  {
   "cell_type": "code",
   "execution_count": 5,
   "metadata": {},
   "outputs": [],
   "source": [
    "#### MODEL ####\n",
    "mol_enc = nn.Sequential(\n",
    "    nn.Linear(2048, 200)\n",
    ")\n",
    "cell_enc = nn.Sequential(\n",
    "    nn.Linear(len(ctypes), 10)\n",
    ")\n",
    "regressor = nn.Sequential(\n",
    "    nn.Linear(210, 100),\n",
    "    nn.Tanh(),\n",
    "    nn.Dropout(0.2),\n",
    "    nn.Linear(100, 100),\n",
    "    nn.Tanh(),\n",
    "    nn.Dropout(0.2),\n",
    "    nn.Linear(100, 500),\n",
    "    nn.Tanh(),\n",
    "    nn.Linear(500, len(de_train.columns)-5)\n",
    ")\n",
    "\n",
    "model = CombinerModel(\n",
    "        mol_encoder=mol_enc,\n",
    "        cell_encoder=cell_enc,\n",
    "        regressor=regressor)\n",
    "torch.save(model.state_dict(), \"temp/ini_model.pkl\")\n",
    "\n",
    "#### LOADERS, DATA ####\n",
    "train_index, val_index = stratified_split(list(de_train['cell_type']), 0.30, 194)\n",
    "train_df = de_train.iloc[train_index]\n",
    "val_df = de_train.iloc[val_index]\n",
    "\n",
    "train_dataset = SCPDataSet(train_df)\n",
    "val_dataset = SCPDataSet(val_df)\n",
    "train_dataloader = DataLoader(train_dataset, 256)\n",
    "val_dataloader = DataLoader(val_dataset, 256)\n",
    "\n",
    "#### CONFIG ####\n",
    "lr = 0.01\n",
    "epochs = 45\n",
    "device = \"cuda:0\"\n",
    "\n",
    "loss_fn = loss_fn\n",
    "optimizer = Adam(model.parameters(), lr=lr)\n",
    "scheduler = lr_scheduler.ReduceLROnPlateau(optimizer, mode=\"min\", factor=0.8, patience=7)\n",
    "\n",
    "#### TENSORBOARD ####\n",
    "writer = SummaryWriter(\"./runs/kaggle/trying_out\")"
   ]
  },
  {
   "cell_type": "code",
   "execution_count": null,
   "metadata": {},
   "outputs": [],
   "source": []
  }
 ],
 "metadata": {
  "kernelspec": {
   "display_name": "pytorch2",
   "language": "python",
   "name": "python3"
  },
  "language_info": {
   "codemirror_mode": {
    "name": "ipython",
    "version": 3
   },
   "file_extension": ".py",
   "mimetype": "text/x-python",
   "name": "python",
   "nbconvert_exporter": "python",
   "pygments_lexer": "ipython3",
   "version": "3.11.4"
  }
 },
 "nbformat": 4,
 "nbformat_minor": 2
}
