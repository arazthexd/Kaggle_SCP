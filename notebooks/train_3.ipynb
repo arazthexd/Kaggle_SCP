{
 "cells": [
  {
   "cell_type": "code",
   "execution_count": 1,
   "metadata": {},
   "outputs": [],
   "source": [
    "import sys\n",
    "sys.path.append(\"..\")\n",
    "\n",
    "import pandas as pd\n",
    "\n",
    "from torch.utils.data import DataLoader\n",
    "from torch.optim import Adam\n",
    "from torch.optim.lr_scheduler import ReduceLROnPlateau\n",
    "from torch.utils.tensorboard import SummaryWriter\n",
    "\n",
    "from dataset import *\n",
    "from features import *\n",
    "from train import *\n",
    "from model import *"
   ]
  },
  {
   "cell_type": "code",
   "execution_count": 2,
   "metadata": {},
   "outputs": [],
   "source": [
    "de_df = pd.read_parquet(\"../data/de_train.parquet\")\n",
    "\n",
    "train_index, val_index = stratified_split(de_df[\"cell_type\"], 0.2, 45)\n",
    "de_df_dataset_train = DataFrameDataset(de_df.iloc[train_index], mode=\"df\")\n",
    "de_df_dataset_val = DataFrameDataset(de_df.iloc[val_index], mode=\"df\")"
   ]
  },
  {
   "cell_type": "code",
   "execution_count": 3,
   "metadata": {},
   "outputs": [],
   "source": [
    "mtypes = list(set(de_df[\"sm_name\"].to_list()))\n",
    "mol_transforms = {\n",
    "    \"morgan_fp\": TransformList([Sm2Smiles(\"../config/sm_smiles.csv\", mode=\"path\"), Smiles2Mol(), Mol2Morgan()]),\n",
    "    \"one_hot\": TransformList([Type2OneHot(mtypes)])\n",
    "}\n",
    "\n",
    "ctypes = list(set(de_df[\"cell_type\"].to_list()))\n",
    "\n",
    "file_names = [\"../data/temp/\"+name.replace(\" \", \"_\").replace(\"+\", \"\")+\"_control_mean.csv\"\n",
    "              for name in ctypes]\n",
    "gene_num = len(pd.read_csv(file_names[0]))\n",
    "\n",
    "cell_transforms = {\n",
    "    \"one_hot\": TransformList([Type2OneHot(ctypes)]),\n",
    "    \"gene_exp\": TransformList([CType2CSVEncoding(ctypes, file_names)])\n",
    "}"
   ]
  },
  {
   "cell_type": "code",
   "execution_count": 4,
   "metadata": {},
   "outputs": [],
   "source": [
    "de_dataset_train = DEDataset(de_df_dataset_train, mol_transforms, cell_transforms)\n",
    "de_dataset_val = DEDataset(de_df_dataset_val, mol_transforms, cell_transforms)"
   ]
  },
  {
   "cell_type": "code",
   "execution_count": 5,
   "metadata": {},
   "outputs": [],
   "source": [
    "import os\n",
    "os.chdir(\"..\")"
   ]
  },
  {
   "cell_type": "code",
   "execution_count": 6,
   "metadata": {},
   "outputs": [],
   "source": [
    "#### MODEL ####\n",
    "cell_ae = VecAutoEncoder([gene_num, 200, 100, 50])\n",
    "\n",
    "#### LOADERS, DATA ####\n",
    "train_dataloader_ = DataLoader(de_dataset_train, 128)\n",
    "val_dataloader_ = DataLoader(de_dataset_val, 128)\n",
    "de_dataset_train.configure(cell_out_feature=\"gene_exp\", ae_mode=\"cell\")\n",
    "de_dataset_val.configure(cell_out_feature=\"gene_exp\", ae_mode=\"cell\")\n",
    "\n",
    "#### CONFIG ####\n",
    "lr = 0.01\n",
    "epochs = 300\n",
    "device = \"cuda:0\"\n",
    "\n",
    "loss_fn = nn.MSELoss()\n",
    "optimizer = Adam(cell_ae.parameters(), lr=lr, weight_decay=1e-4)\n",
    "scheduler = ReduceLROnPlateau(optimizer, mode=\"min\", factor=0.8, patience=7)\n",
    "\n",
    "#### TENSORBOARD ####\n",
    "writer = SummaryWriter(\"./runs/cell_ae/1\")\n"
   ]
  },
  {
   "cell_type": "code",
   "execution_count": 7,
   "metadata": {},
   "outputs": [
    {
     "name": "stderr",
     "output_type": "stream",
     "text": [
      "100%|██████████| 300/300 [00:09<00:00, 31.39it/s]\n"
     ]
    }
   ],
   "source": [
    "train_many_epochs(cell_ae, train_dataloader_, val_dataloader_, epochs, \n",
    "                  loss_fn, optimizer, scheduler, writer=writer, device=device)"
   ]
  },
  {
   "cell_type": "code",
   "execution_count": 13,
   "metadata": {},
   "outputs": [],
   "source": [
    "device = \"cuda:0\"\n",
    "\n",
    "#### MODEL ####\n",
    "mol_enc = nn.Sequential(\n",
    "    nn.Linear(2048, 100)\n",
    ").float()\n",
    "cell_enc = nn.Sequential(\n",
    "    VecAEEncoder(cell_ae, grads=False, device=device)\n",
    "    # nn.Linear(len(ctypes), 50)\n",
    ").float()\n",
    "regressor = nn.Sequential(\n",
    "    nn.Linear(150, 100),\n",
    "    nn.Tanh(),\n",
    "    nn.Dropout(0.2),\n",
    "    nn.Linear(100, 100),\n",
    "    nn.Tanh(),\n",
    "    nn.Dropout(0.2),\n",
    "    nn.Linear(100, 500),\n",
    "    nn.Tanh(),\n",
    "    nn.Linear(500, len(de_df.columns)-5)\n",
    ").float()\n",
    "\n",
    "model = CombinerModel(\n",
    "        mol_encoder=mol_enc,\n",
    "        cell_encoder=cell_enc,\n",
    "        regressor=regressor)\n",
    "torch.save(model.state_dict(), \"temp/ini_model.pkl\")\n",
    "\n",
    "#### LOADERS, DATA ####\n",
    "de_dataset_train.configure(sm_out_feature=\"morgan_fp\",\n",
    "                           cell_out_feature=\"gene_exp\", ae_mode=False)\n",
    "de_dataset_val.configure(sm_out_feature=\"morgan_fp\",\n",
    "                           cell_out_feature=\"gene_exp\", ae_mode=False)\n",
    "train_dataloader = DataLoader(de_dataset_train, 128)\n",
    "val_dataloader = DataLoader(de_dataset_val, 128)\n",
    "\n",
    "#### CONFIG ####\n",
    "lr = 0.01\n",
    "epochs = 200\n",
    "\n",
    "loss_fn = loss_fn\n",
    "optimizer = Adam(model.parameters(), lr=lr, weight_decay=1e-4)\n",
    "scheduler = ReduceLROnPlateau(optimizer, mode=\"min\", factor=0.8, patience=7)\n",
    "\n",
    "#### TENSORBOARD ####\n",
    "writer = SummaryWriter(\"./runs/kaggle/trying_out\")"
   ]
  },
  {
   "cell_type": "code",
   "execution_count": 14,
   "metadata": {},
   "outputs": [
    {
     "name": "stderr",
     "output_type": "stream",
     "text": [
      "100%|██████████| 200/200 [00:27<00:00,  7.18it/s]\n"
     ]
    }
   ],
   "source": [
    "train_many_epochs(model, train_dataloader, val_dataloader, epochs, \n",
    "                  loss_fn, optimizer, scheduler, writer=writer, device=device)"
   ]
  },
  {
   "cell_type": "code",
   "execution_count": null,
   "metadata": {},
   "outputs": [],
   "source": []
  }
 ],
 "metadata": {
  "kernelspec": {
   "display_name": "pytorch2",
   "language": "python",
   "name": "python3"
  },
  "language_info": {
   "codemirror_mode": {
    "name": "ipython",
    "version": 3
   },
   "file_extension": ".py",
   "mimetype": "text/x-python",
   "name": "python",
   "nbconvert_exporter": "python",
   "pygments_lexer": "ipython3",
   "version": "3.11.4"
  }
 },
 "nbformat": 4,
 "nbformat_minor": 2
}
