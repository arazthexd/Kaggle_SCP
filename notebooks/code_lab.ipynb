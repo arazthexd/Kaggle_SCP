{
 "cells": [
  {
   "cell_type": "code",
   "execution_count": 1,
   "metadata": {},
   "outputs": [],
   "source": [
    "from model import BasicModel\n",
    "from data_utils import SCPDataSet\n",
    "from data_utils import Mol2Morgan, Smiles2Mol"
   ]
  },
  {
   "cell_type": "code",
   "execution_count": 2,
   "metadata": {},
   "outputs": [
    {
     "name": "stdout",
     "output_type": "stream",
     "text": [
      "Expression columns not given, looking for file...\n",
      "No file found for expression columns, dropping default meta columns...\n"
     ]
    }
   ],
   "source": [
    "data = SCPDataSet(root_dir='./data')\n",
    "s2m = Smiles2Mol()\n",
    "m2m = Mol2Morgan()\n",
    "transformed_data = m2m(s2m(data[:5][\"smiles\"]))"
   ]
  },
  {
   "cell_type": "code",
   "execution_count": 4,
   "metadata": {},
   "outputs": [
    {
     "data": {
      "text/plain": [
       "torch.Size([5, 2048])"
      ]
     },
     "execution_count": 4,
     "metadata": {},
     "output_type": "execute_result"
    }
   ],
   "source": [
    "transformed_data.shape"
   ]
  },
  {
   "cell_type": "code",
   "execution_count": null,
   "metadata": {},
   "outputs": [],
   "source": [
    "from sklearn.model_selection import train_test_split\n",
    "train_test_split()"
   ]
  },
  {
   "cell_type": "code",
   "execution_count": 9,
   "metadata": {},
   "outputs": [],
   "source": [
    "#split\n",
    "from sklearn.model_selection import train_test_split\n",
    "\n",
    "def split(data, test_size, seed=42):\n",
    "    expression = data[:]['expression']\n",
    "    cell_type = data[:]['cell_type']\n",
    "    sm_name = data[:]['sm_name']\n",
    "    smiles = data[:]['smiles']\n",
    "    expression_train, expression_val, cell_type_train, cell_type_val, \\\n",
    "        sm_name_train, sm_name_val, smiles_train, smiles_val = train_test_split(\n",
    "        expression, cell_type, sm_name, smiles, test_size=test_size, \n",
    "        stratify=cell_type, random_state=seed)\n",
    "    out_dic_train = {\n",
    "        'expression': expression_train,\n",
    "        'cell_type': cell_type_train,\n",
    "        'sm_name': sm_name_train,\n",
    "        'smiles': smiles_train\n",
    "    }\n",
    "    out_dic_val = {\n",
    "        'expression': expression_val,\n",
    "        'cell_type': cell_type_val,\n",
    "        'sm_name': sm_name_val,\n",
    "        'smiles': smiles_val\n",
    "    }\n",
    "    return out_dic_train, out_dic_val\n",
    "\n"
   ]
  },
  {
   "cell_type": "code",
   "execution_count": 11,
   "metadata": {},
   "outputs": [],
   "source": [
    "data_train, data_val = split(data, 0.25)"
   ]
  },
  {
   "cell_type": "code",
   "execution_count": null,
   "metadata": {},
   "outputs": [],
   "source": [
    "##training\n",
    "\n",
    "    "
   ]
  },
  {
   "cell_type": "code",
   "execution_count": null,
   "metadata": {},
   "outputs": [],
   "source": []
  }
 ],
 "metadata": {
  "kernelspec": {
   "display_name": "pytorch2",
   "language": "python",
   "name": "python3"
  },
  "language_info": {
   "codemirror_mode": {
    "name": "ipython",
    "version": 3
   },
   "file_extension": ".py",
   "mimetype": "text/x-python",
   "name": "python",
   "nbconvert_exporter": "python",
   "pygments_lexer": "ipython3",
   "version": "3.11.4"
  }
 },
 "nbformat": 4,
 "nbformat_minor": 2
}
