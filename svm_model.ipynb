{
 "cells": [
  {
   "cell_type": "code",
   "execution_count": 1,
   "metadata": {},
   "outputs": [],
   "source": [
    "import pandas as pd\n",
    "import numpy as np\n",
    "from sklearn.preprocessing import StandardScaler\n",
    "from sklearn.svm import SVR\n",
    "import matplotlib.pyplot as plt\n",
    "from sklearn.model_selection import train_test_split\n",
    "import opendatasets\n",
    "import torch\n",
    "import rdkit\n",
    "from torch.utils.data import Dataset\n",
    "from dataset import *\n",
    "from features import *\n",
    "from joblib import parallel_backend"
   ]
  },
  {
   "cell_type": "code",
   "execution_count": 5,
   "metadata": {},
   "outputs": [
    {
     "data": {
      "text/plain": [
       "'c:\\\\Users\\\\yayag\\\\Kaggle_SCP'"
      ]
     },
     "execution_count": 5,
     "metadata": {},
     "output_type": "execute_result"
    }
   ],
   "source": [
    "import os\n",
    "os.getcwd()"
   ]
  },
  {
   "cell_type": "code",
   "execution_count": 2,
   "metadata": {},
   "outputs": [],
   "source": [
    "#get train and val x and y\n",
    "de_df = pd.read_parquet(\"data/de_train.parquet\")\n",
    "\n",
    "from dataset import stratified_split\n",
    "train_index, val_index = stratified_split(de_df[\"cell_type\"], 0.2, 45)\n",
    "from dataset import DataFrameDataset\n",
    "de_df_dataset_train = DataFrameDataset(de_df.iloc[train_index], mode=\"df\")\n",
    "de_df_dataset_val = DataFrameDataset(de_df.iloc[val_index], mode=\"df\")"
   ]
  },
  {
   "cell_type": "code",
   "execution_count": 3,
   "metadata": {},
   "outputs": [],
   "source": [
    "mtypes = list(set(de_df[\"sm_name\"].to_list()))\n",
    "mol_transforms = {\n",
    "    \"morgan2_fp\": TransformList([Sm2Smiles(\"config/sm_smiles.csv\", mode=\"path\"), Smiles2Mol(), Mol2Morgan(2048, 2)]),\n",
    "    \"morgan3_fp\": TransformList([Sm2Smiles(\"config/sm_smiles.csv\", mode=\"path\"), Smiles2Mol(), Mol2Morgan(2048, 3)]),\n",
    "    \"one_hot\": TransformList([Type2OneHot(mtypes)])\n",
    "}\n",
    "\n",
    "ctypes = list(set(de_df[\"cell_type\"].to_list()))\n",
    "\n",
    "file_names = [\"data/temp/\"+name.replace(\" \", \"_\").replace(\"+\", \"\")+\"_control_mean.csv\"\n",
    "              for name in ctypes]\n",
    "gene_num = len(pd.read_csv(file_names[0]))\n",
    "\n",
    "cell_transforms = {\n",
    "    \"one_hot\": TransformList([Type2OneHot(ctypes)]),\n",
    "    \"gene_exp\": TransformList([CType2CSVEncoding(ctypes, file_names)])\n",
    "    # \"gene_exp\": TransformList([CType2CSVEncoding(ctypes, file_names), NormCount2CPM()])\n",
    "}"
   ]
  },
  {
   "cell_type": "code",
   "execution_count": 4,
   "metadata": {},
   "outputs": [],
   "source": [
    "de_dataset_train = DEDataset(de_df_dataset_train, mol_transforms, cell_transforms)\n",
    "de_dataset_val = DEDataset(de_df_dataset_val, mol_transforms, cell_transforms)"
   ]
  },
  {
   "cell_type": "code",
   "execution_count": 5,
   "metadata": {},
   "outputs": [],
   "source": [
    "de_dataset_train.configure(sm_out_feature=\"one_hot\", cell_out_feature=\"one_hot\", return_y=True, ae_mode=False)\n",
    "de_dataset_val.configure(sm_out_feature=\"one_hot\", cell_out_feature=\"one_hot\", return_y=True, ae_mode=False)"
   ]
  },
  {
   "cell_type": "code",
   "execution_count": 29,
   "metadata": {},
   "outputs": [],
   "source": [
    "X_train, y_train = de_dataset_train[:]\n",
    "X_val, y_val = de_dataset_val[:]"
   ]
  },
  {
   "cell_type": "code",
   "execution_count": 44,
   "metadata": {},
   "outputs": [],
   "source": [
    "mols = np.array(X_train[0])\n",
    "cells = np.array(X_train[1])\n",
    "X_train = np.concatenate([mols, cells], axis=1)"
   ]
  },
  {
   "cell_type": "code",
   "execution_count": 45,
   "metadata": {},
   "outputs": [],
   "source": [
    "#scale\n",
    "x_scaler = StandardScaler()\n",
    "y_scaler = StandardScaler()\n",
    "X_train = x_scaler.fit_transform(np.array(X_train))\n",
    "y_train = y_scaler.fit_transform(np.array(y_train))"
   ]
  },
  {
   "cell_type": "code",
   "execution_count": 50,
   "metadata": {},
   "outputs": [
    {
     "data": {
      "text/plain": [
       "(491,)"
      ]
     },
     "execution_count": 50,
     "metadata": {},
     "output_type": "execute_result"
    }
   ],
   "source": [
    "y_train[:,0].shape"
   ]
  },
  {
   "cell_type": "code",
   "execution_count": 66,
   "metadata": {},
   "outputs": [
    {
     "data": {
      "text/html": [
       "<style>#sk-container-id-3 {color: black;}#sk-container-id-3 pre{padding: 0;}#sk-container-id-3 div.sk-toggleable {background-color: white;}#sk-container-id-3 label.sk-toggleable__label {cursor: pointer;display: block;width: 100%;margin-bottom: 0;padding: 0.3em;box-sizing: border-box;text-align: center;}#sk-container-id-3 label.sk-toggleable__label-arrow:before {content: \"▸\";float: left;margin-right: 0.25em;color: #696969;}#sk-container-id-3 label.sk-toggleable__label-arrow:hover:before {color: black;}#sk-container-id-3 div.sk-estimator:hover label.sk-toggleable__label-arrow:before {color: black;}#sk-container-id-3 div.sk-toggleable__content {max-height: 0;max-width: 0;overflow: hidden;text-align: left;background-color: #f0f8ff;}#sk-container-id-3 div.sk-toggleable__content pre {margin: 0.2em;color: black;border-radius: 0.25em;background-color: #f0f8ff;}#sk-container-id-3 input.sk-toggleable__control:checked~div.sk-toggleable__content {max-height: 200px;max-width: 100%;overflow: auto;}#sk-container-id-3 input.sk-toggleable__control:checked~label.sk-toggleable__label-arrow:before {content: \"▾\";}#sk-container-id-3 div.sk-estimator input.sk-toggleable__control:checked~label.sk-toggleable__label {background-color: #d4ebff;}#sk-container-id-3 div.sk-label input.sk-toggleable__control:checked~label.sk-toggleable__label {background-color: #d4ebff;}#sk-container-id-3 input.sk-hidden--visually {border: 0;clip: rect(1px 1px 1px 1px);clip: rect(1px, 1px, 1px, 1px);height: 1px;margin: -1px;overflow: hidden;padding: 0;position: absolute;width: 1px;}#sk-container-id-3 div.sk-estimator {font-family: monospace;background-color: #f0f8ff;border: 1px dotted black;border-radius: 0.25em;box-sizing: border-box;margin-bottom: 0.5em;}#sk-container-id-3 div.sk-estimator:hover {background-color: #d4ebff;}#sk-container-id-3 div.sk-parallel-item::after {content: \"\";width: 100%;border-bottom: 1px solid gray;flex-grow: 1;}#sk-container-id-3 div.sk-label:hover label.sk-toggleable__label {background-color: #d4ebff;}#sk-container-id-3 div.sk-serial::before {content: \"\";position: absolute;border-left: 1px solid gray;box-sizing: border-box;top: 0;bottom: 0;left: 50%;z-index: 0;}#sk-container-id-3 div.sk-serial {display: flex;flex-direction: column;align-items: center;background-color: white;padding-right: 0.2em;padding-left: 0.2em;position: relative;}#sk-container-id-3 div.sk-item {position: relative;z-index: 1;}#sk-container-id-3 div.sk-parallel {display: flex;align-items: stretch;justify-content: center;background-color: white;position: relative;}#sk-container-id-3 div.sk-item::before, #sk-container-id-3 div.sk-parallel-item::before {content: \"\";position: absolute;border-left: 1px solid gray;box-sizing: border-box;top: 0;bottom: 0;left: 50%;z-index: -1;}#sk-container-id-3 div.sk-parallel-item {display: flex;flex-direction: column;z-index: 1;position: relative;background-color: white;}#sk-container-id-3 div.sk-parallel-item:first-child::after {align-self: flex-end;width: 50%;}#sk-container-id-3 div.sk-parallel-item:last-child::after {align-self: flex-start;width: 50%;}#sk-container-id-3 div.sk-parallel-item:only-child::after {width: 0;}#sk-container-id-3 div.sk-dashed-wrapped {border: 1px dashed gray;margin: 0 0.4em 0.5em 0.4em;box-sizing: border-box;padding-bottom: 0.4em;background-color: white;}#sk-container-id-3 div.sk-label label {font-family: monospace;font-weight: bold;display: inline-block;line-height: 1.2em;}#sk-container-id-3 div.sk-label-container {text-align: center;}#sk-container-id-3 div.sk-container {/* jupyter's `normalize.less` sets `[hidden] { display: none; }` but bootstrap.min.css set `[hidden] { display: none !important; }` so we also need the `!important` here to be able to override the default hidden behavior on the sphinx rendered scikit-learn.org. See: https://github.com/scikit-learn/scikit-learn/issues/21755 */display: inline-block !important;position: relative;}#sk-container-id-3 div.sk-text-repr-fallback {display: none;}</style><div id=\"sk-container-id-3\" class=\"sk-top-container\"><div class=\"sk-text-repr-fallback\"><pre>SVR(kernel=&#x27;poly&#x27;)</pre><b>In a Jupyter environment, please rerun this cell to show the HTML representation or trust the notebook. <br />On GitHub, the HTML representation is unable to render, please try loading this page with nbviewer.org.</b></div><div class=\"sk-container\" hidden><div class=\"sk-item\"><div class=\"sk-estimator sk-toggleable\"><input class=\"sk-toggleable__control sk-hidden--visually\" id=\"sk-estimator-id-3\" type=\"checkbox\" checked><label for=\"sk-estimator-id-3\" class=\"sk-toggleable__label sk-toggleable__label-arrow\">SVR</label><div class=\"sk-toggleable__content\"><pre>SVR(kernel=&#x27;poly&#x27;)</pre></div></div></div></div></div>"
      ],
      "text/plain": [
       "SVR(kernel='poly')"
      ]
     },
     "execution_count": 66,
     "metadata": {},
     "output_type": "execute_result"
    }
   ],
   "source": [
    "regressor = SVR(kernel=\"poly\")\n",
    "regressor.fit(X_train, y_train[:,2])"
   ]
  },
  {
   "cell_type": "code",
   "execution_count": 53,
   "metadata": {},
   "outputs": [],
   "source": [
    "mols = np.array(X_val[0])\n",
    "cells = np.array(X_val[1])\n",
    "X_val = np.concatenate([mols, cells], axis=1)"
   ]
  },
  {
   "cell_type": "code",
   "execution_count": 64,
   "metadata": {},
   "outputs": [],
   "source": [
    "#evaluate\n",
    "y_0_pred = regressor.predict(X_val)\n"
   ]
  },
  {
   "cell_type": "code",
   "execution_count": 74,
   "metadata": {},
   "outputs": [
    {
     "data": {
      "text/plain": [
       "1.6135245772365234"
      ]
     },
     "execution_count": 74,
     "metadata": {},
     "output_type": "execute_result"
    }
   ],
   "source": [
    "mse = torch.nn.MSELoss()\n",
    "float(mse(torch.tensor(y_0_pred), y_val[:,2]))"
   ]
  },
  {
   "cell_type": "code",
   "execution_count": 82,
   "metadata": {},
   "outputs": [
    {
     "name": "stderr",
     "output_type": "stream",
     "text": [
      "100%|██████████| 18211/18211 [08:27<00:00, 35.90it/s]\n"
     ]
    }
   ],
   "source": [
    "from tqdm import tqdm\n",
    "all_y_pred = pd.DataFrame()\n",
    "for i in tqdm(range(18211)):\n",
    "    regressor = SVR(kernel=\"poly\")\n",
    "    regressor.fit(X_train, y_train[:,i])\n",
    "    y_pred = regressor.predict(X_val)\n",
    "    all_y_pred = pd.concat([pd.DataFrame(y_pred), all_y_pred], axis=1)\n",
    "\n",
    "\n",
    "   \n",
    "\n",
    "    \n"
   ]
  },
  {
   "cell_type": "code",
   "execution_count": 83,
   "metadata": {},
   "outputs": [],
   "source": [
    "from train import loss_mrrmse\n",
    "poly_loss = loss_mrrmse(np.array(all_y_pred), y_val)"
   ]
  },
  {
   "cell_type": "code",
   "execution_count": 84,
   "metadata": {},
   "outputs": [
    {
     "data": {
      "text/plain": [
       "tensor(1.1790, dtype=torch.float64)"
      ]
     },
     "execution_count": 84,
     "metadata": {},
     "output_type": "execute_result"
    }
   ],
   "source": [
    "poly_loss"
   ]
  },
  {
   "cell_type": "code",
   "execution_count": 85,
   "metadata": {},
   "outputs": [
    {
     "name": "stderr",
     "output_type": "stream",
     "text": [
      "100%|██████████| 18211/18211 [10:40<00:00, 28.44it/s]\n"
     ]
    }
   ],
   "source": [
    "from tqdm import tqdm\n",
    "rbf_all_y_pred = pd.DataFrame()\n",
    "for i in tqdm(range(18211)):\n",
    "    regressor = SVR(kernel=\"rbf\")\n",
    "    regressor.fit(X_train, y_train[:,i])\n",
    "    y_pred = regressor.predict(X_val)\n",
    "    rbf_all_y_pred = pd.concat([pd.DataFrame(y_pred), rbf_all_y_pred], axis=1)"
   ]
  },
  {
   "cell_type": "code",
   "execution_count": 86,
   "metadata": {},
   "outputs": [
    {
     "data": {
      "text/plain": [
       "tensor(1.1777, dtype=torch.float64)"
      ]
     },
     "execution_count": 86,
     "metadata": {},
     "output_type": "execute_result"
    }
   ],
   "source": [
    "poly_loss = loss_mrrmse(np.array(rbf_all_y_pred), y_val)\n",
    "poly_loss"
   ]
  },
  {
   "cell_type": "code",
   "execution_count": 87,
   "metadata": {},
   "outputs": [
    {
     "name": "stderr",
     "output_type": "stream",
     "text": [
      "100%|██████████| 18211/18211 [17:34<00:00, 17.27it/s]\n"
     ]
    }
   ],
   "source": [
    "from tqdm import tqdm\n",
    "train_all_y_pred = pd.DataFrame()\n",
    "for i in tqdm(range(18211)):\n",
    "    regressor = SVR(kernel=\"poly\")\n",
    "    regressor.fit(X_train, y_train[:,i])\n",
    "    y_pred = regressor.predict(X_train)\n",
    "    train_all_y_pred = pd.concat([pd.DataFrame(y_pred), train_all_y_pred], axis=1)\n"
   ]
  },
  {
   "cell_type": "code",
   "execution_count": 90,
   "metadata": {},
   "outputs": [
    {
     "data": {
      "text/plain": [
       "array([[-0.25960985, -0.9292144 , -1.8282267 , ...,  0.82168317,\n",
       "        -1.3241875 , -0.00286939],\n",
       "       [ 0.015005  ,  0.21437776,  0.2190293 , ...,  1.6843605 ,\n",
       "         0.4202997 ,  0.22115749],\n",
       "       [-0.3298378 ,  0.03484344,  0.16391155, ..., -0.62679297,\n",
       "        -0.07077432, -1.7265558 ],\n",
       "       ...,\n",
       "       [-0.156492  ,  0.15783927, -0.08796211, ...,  0.8739869 ,\n",
       "         0.44605368, -0.5428026 ],\n",
       "       [-0.25941092, -0.21589983,  0.07954812, ..., -0.13734768,\n",
       "         0.17077693, -0.7044342 ],\n",
       "       [-0.82053643, -0.24625742,  0.03101921, ..., -0.65131146,\n",
       "         0.52928084, -0.97066206]], dtype=float32)"
      ]
     },
     "execution_count": 90,
     "metadata": {},
     "output_type": "execute_result"
    }
   ],
   "source": [
    "y_train"
   ]
  },
  {
   "cell_type": "code",
   "execution_count": 92,
   "metadata": {},
   "outputs": [
    {
     "data": {
      "text/plain": [
       "tensor(0.7299, dtype=torch.float64)"
      ]
     },
     "execution_count": 92,
     "metadata": {},
     "output_type": "execute_result"
    }
   ],
   "source": [
    "poly_loss = loss_mrrmse(torch.tensor(np.array(train_all_y_pred)), torch.tensor(y_train))\n",
    "poly_loss"
   ]
  },
  {
   "cell_type": "code",
   "execution_count": 34,
   "metadata": {},
   "outputs": [],
   "source": [
    "    de_dataset_train.configure(sm_out_feature=\"morgan3_fp\", cell_out_feature=\"gene_exp\", return_y=True, ae_mode=False)\n",
    "    de_dataset_val.configure(sm_out_feature=\"morgan3_fp\", cell_out_feature=\"gene_exp\", return_y=True, ae_mode=False)\n",
    "\n",
    "    X_train, y_train = de_dataset_train[:]\n",
    "    X_val, y_val = de_dataset_val[:]\n",
    "\n",
    "    mols = np.array(X_train[0])\n",
    "    cells = np.array(X_train[1])\n",
    "    X_train = np.concatenate([mols, cells], axis=1)\n",
    "    val_mols = np.array(X_val[0])\n",
    "    val_cells = np.array(X_val[1])\n",
    "    X_val = np.concatenate([val_mols, val_cells], axis=1)"
   ]
  },
  {
   "cell_type": "code",
   "execution_count": 95,
   "metadata": {},
   "outputs": [
    {
     "data": {
      "text/plain": [
       "(491, 3166)"
      ]
     },
     "execution_count": 95,
     "metadata": {},
     "output_type": "execute_result"
    }
   ],
   "source": [
    "X_train.shape"
   ]
  },
  {
   "cell_type": "code",
   "execution_count": 103,
   "metadata": {},
   "outputs": [
    {
     "name": "stderr",
     "output_type": "stream",
     "text": [
      "100%|██████████| 18211/18211 [41:53<00:00,  7.25it/s]\n"
     ]
    }
   ],
   "source": [
    "from tqdm import tqdm\n",
    "morgan_exp_all_y_pred = pd.DataFrame()\n",
    "for i in tqdm(range(18211)):\n",
    "    regressor = SVR(kernel=\"poly\")\n",
    "    regressor.fit(X_train, y_train[:,i])\n",
    "    y_pred = regressor.predict(X_val)\n",
    "    morgan_exp_all_y_pred = pd.concat([pd.DataFrame(y_pred), morgan_exp_all_y_pred], axis=1)"
   ]
  },
  {
   "cell_type": "code",
   "execution_count": 104,
   "metadata": {},
   "outputs": [
    {
     "name": "stderr",
     "output_type": "stream",
     "text": [
      "C:\\Users\\yayag\\AppData\\Local\\Temp\\ipykernel_17748\\491387450.py:1: UserWarning: To copy construct from a tensor, it is recommended to use sourceTensor.clone().detach() or sourceTensor.clone().detach().requires_grad_(True), rather than torch.tensor(sourceTensor).\n",
      "  exp_loss = loss_mrrmse(torch.tensor(np.array(train_all_y_pred)), torch.tensor(y_train))\n"
     ]
    },
    {
     "data": {
      "text/plain": [
       "tensor(1.3407, dtype=torch.float64)"
      ]
     },
     "execution_count": 104,
     "metadata": {},
     "output_type": "execute_result"
    }
   ],
   "source": [
    "exp_loss = loss_mrrmse(torch.tensor(np.array(train_all_y_pred)), torch.tensor(y_train))\n",
    "exp_loss"
   ]
  },
  {
   "cell_type": "code",
   "execution_count": 47,
   "metadata": {},
   "outputs": [
    {
     "name": "stdout",
     "output_type": "stream",
     "text": [
      "val: tensor(1.0642, dtype=torch.float64) train: tensor(1.0426, dtype=torch.float64)\n"
     ]
    }
   ],
   "source": [
    "from train import loss_mrrmse  \n",
    "from sklearn.multioutput import MultiOutputRegressor\n",
    "with parallel_backend(\"loky\", n_jobs=8):\n",
    "    regressor = SVR(kernel=\"rbf\", C=5, gamma=0.001)\n",
    "    regressor = MultiOutputRegressor(regressor, )\n",
    "    regressor.fit(X_train, y_train[:,:500])\n",
    "    val_y_pred = regressor.predict(X_val)\n",
    "    train_y_pred = regressor.predict(X_train)\n",
    "\n",
    "val_loss = loss_mrrmse(y_val[:,:500], torch.tensor(val_y_pred))\n",
    "train_loss = loss_mrrmse(y_train[:,:500], torch.tensor(train_y_pred))\n",
    "print(\"val:\", val_loss, \"train:\", train_loss)"
   ]
  },
  {
   "cell_type": "code",
   "execution_count": 11,
   "metadata": {},
   "outputs": [
    {
     "data": {
      "text/plain": [
       "torch.Size([491, 100])"
      ]
     },
     "execution_count": 11,
     "metadata": {},
     "output_type": "execute_result"
    }
   ],
   "source": [
    "y_train[:,:100].shape"
   ]
  },
  {
   "cell_type": "code",
   "execution_count": null,
   "metadata": {},
   "outputs": [],
   "source": []
  },
  {
   "cell_type": "code",
   "execution_count": null,
   "metadata": {},
   "outputs": [],
   "source": []
  },
  {
   "cell_type": "code",
   "execution_count": null,
   "metadata": {},
   "outputs": [],
   "source": []
  },
  {
   "cell_type": "code",
   "execution_count": null,
   "metadata": {},
   "outputs": [],
   "source": []
  }
 ],
 "metadata": {
  "kernelspec": {
   "display_name": "kaggle_scp",
   "language": "python",
   "name": "python3"
  },
  "language_info": {
   "codemirror_mode": {
    "name": "ipython",
    "version": 3
   },
   "file_extension": ".py",
   "mimetype": "text/x-python",
   "name": "python",
   "nbconvert_exporter": "python",
   "pygments_lexer": "ipython3",
   "version": "3.10.13"
  }
 },
 "nbformat": 4,
 "nbformat_minor": 2
}
