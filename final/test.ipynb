{
 "cells": [
  {
   "cell_type": "code",
   "execution_count": 1,
   "metadata": {},
   "outputs": [
    {
     "name": "stdout",
     "output_type": "stream",
     "text": [
      "WARNING:tensorflow:From c:\\Users\\ghanb\\anaconda3\\envs\\cheminfo\\Lib\\site-packages\\keras\\src\\losses.py:2976: The name tf.losses.sparse_softmax_cross_entropy is deprecated. Please use tf.compat.v1.losses.sparse_softmax_cross_entropy instead.\n",
      "\n"
     ]
    }
   ],
   "source": [
    "from dataset import *\n",
    "from train import *\n",
    "from model import *\n",
    "from features import *\n",
    "\n",
    "import pickle as pkl\n",
    "\n",
    "import numpy as np\n",
    "\n",
    "import torch\n",
    "from torch.optim import SGD, Adam\n",
    "import torch.optim.lr_scheduler as lr_scheduler\n",
    "from torch.utils.data import DataLoader\n",
    "from torch.utils.tensorboard import SummaryWriter\n",
    "\n",
    "data_dir = \"../data\""
   ]
  },
  {
   "cell_type": "code",
   "execution_count": 2,
   "metadata": {},
   "outputs": [
    {
     "name": "stdout",
     "output_type": "stream",
     "text": [
      "(21255, 147, 6)\n",
      "dict_keys(['gene_names', 'mols', 'cell_types'])\n",
      "['T cells CD4+', 'T regulatory cells', 'T cells CD8+', 'NK cells', 'B cells', 'Myeloid cells']\n",
      "(18211, 146, 4)\n",
      "(18211, 17, 2)\n"
     ]
    }
   ],
   "source": [
    "with open(f\"{data_dir}/adata.npy\", \"rb\") as f:\n",
    "    data = np.load(f)[0].squeeze()\n",
    "    print(data.shape)\n",
    "with open(f\"{data_dir}/adata.npy.meta.pickle\", \"rb\") as f:\n",
    "    meta = pkl.load(f)\n",
    "    print(meta.keys())\n",
    "    print(meta[\"cell_types\"])\n",
    "\n",
    "with open(f\"{data_dir}/de_train.npy\", \"rb\") as f:\n",
    "    de_train = np.load(f)\n",
    "    print(de_train.shape)\n",
    "with open(f\"{data_dir}/de_val.npy\", \"rb\") as f:\n",
    "    de_val = np.load(f)\n",
    "    print(de_val.shape)"
   ]
  },
  {
   "cell_type": "code",
   "execution_count": 3,
   "metadata": {},
   "outputs": [],
   "source": [
    "mtypes = meta[\"mols\"]\n",
    "mol_transforms = {\n",
    "    \"morgan2_fp\": TransformList([Sm2Smiles(\"../config/sm_smiles.csv\", mode=\"path\"), Smiles2Mol(), Mol2Morgan(2048, 2)]),\n",
    "    \"morgan3_fp\": TransformList([Sm2Smiles(\"../config/sm_smiles.csv\", mode=\"path\"), Smiles2Mol(), Mol2Morgan(2048, 3)]),\n",
    "    \"one_hot\": TransformList([Type2OneHot(mtypes)])\n",
    "}\n",
    "\n",
    "ctypes = meta[\"cell_types\"]\n",
    "\n",
    "gene_num = len(meta[\"gene_names\"])"
   ]
  },
  {
   "cell_type": "code",
   "execution_count": 4,
   "metadata": {},
   "outputs": [],
   "source": [
    "# dataset_train = C2PDataset(data, meta, sm_transforms=mol_transforms)\n",
    "# dataset_val = C2PDataset(data, meta, sm_transforms=mol_transforms)\n",
    "# dataset_train.configure(sm_out_feature=\"morgan2_fp\", mode=\"train\", return_y=False)\n",
    "# dataset_val.configure(sm_out_feature=\"morgan2_fp\", mode=\"validation\")\n",
    "# d = CP2DEDataset(de_train, dataset_train)"
   ]
  },
  {
   "cell_type": "code",
   "execution_count": 5,
   "metadata": {},
   "outputs": [
    {
     "name": "stderr",
     "output_type": "stream",
     "text": [
      "100%|██████████| 40/40 [01:07<00:00,  1.68s/it]\n"
     ]
    }
   ],
   "source": [
    "#### LOADERS, DATA ####\n",
    "dataset_train = C2PDataset(data, meta, sm_transforms=mol_transforms)\n",
    "dataset_val = C2PDataset(data, meta, sm_transforms=mol_transforms)\n",
    "dataset_train.configure(sm_out_feature=\"morgan2_fp\", mode=\"train\")\n",
    "dataset_val.configure(sm_out_feature=\"morgan2_fp\", mode=\"validation\")\n",
    "train_dataloader = DataLoader(dataset_train, 32)\n",
    "val_dataloader = DataLoader(dataset_val, 32)\n",
    "\n",
    "#### MODEL ####\n",
    "model = Control2Pert(in_dim=len(dataset_train.gene_names_control), pert_dim=2048, \n",
    "                     bottle_dim=500, out_dim=len(dataset_train.gene_names_control))\n",
    "\n",
    "#### TRAINING ####\n",
    "lr = 0.01\n",
    "epochs = 40\n",
    "device = \"cuda:0\"\n",
    "\n",
    "loss_fn = loss_mrrmse\n",
    "optimizer = Adam(model.parameters(), lr=lr, weight_decay=2e-4)\n",
    "scheduler = lr_scheduler.ReduceLROnPlateau(optimizer, mode=\"min\", factor=0.8, patience=7)\n",
    "\n",
    "#### BATCH PROCESSING ####\n",
    "def process_batch(batch):\n",
    "\n",
    "    x_batch, (y_batch, mask_batch) = batch\n",
    "    y_batch = y_batch.to(device)\n",
    "    mask_batch = mask_batch.to(device)\n",
    "    y_pred = model(*x_batch, device) # TODO: Send to device the x in model?\n",
    "\n",
    "    loss = loss_fn(y_pred, y_batch, mask_batch)\n",
    "    return loss\n",
    "\n",
    "#### TENSORBOARD ####\n",
    "writer = SummaryWriter(\"./runs/final_test7/initial_model\")\n",
    "\n",
    "#### RUN ####\n",
    "train_many_epochs(model, train_dataloader, val_dataloader, epochs, \n",
    "                  process_batch, optimizer, scheduler, writer=writer, device=device)"
   ]
  },
  {
   "cell_type": "code",
   "execution_count": 6,
   "metadata": {},
   "outputs": [
    {
     "name": "stderr",
     "output_type": "stream",
     "text": [
      "100%|██████████| 100/100 [01:13<00:00,  1.36it/s]\n"
     ]
    }
   ],
   "source": [
    "#### LOADERS, DATA ####\n",
    "dataset_final_train = CP2DEDataset(de_train, dataset_train)\n",
    "dataset_final_val = CP2DEDataset(de_val, dataset_val)\n",
    "train_dataloader = DataLoader(dataset_final_train, 32)\n",
    "val_dataloader = DataLoader(dataset_final_val, 32)\n",
    "\n",
    "#### MODEL ####\n",
    "model_final = ContPert2DE(model, 500+2048, # len(dataset_train.gene_names_control)\n",
    "                          layers_sizes=[1000, 1000], out_dim=de_train.shape[0])\n",
    "model.float()\n",
    "\n",
    "#### TRAINING ####\n",
    "lr = 0.05\n",
    "epochs = 100\n",
    "device = \"cuda:0\"\n",
    "\n",
    "loss_fn = loss_mrrmse\n",
    "optimizer = Adam(model_final.parameters(), lr=lr, weight_decay=2e-3)\n",
    "scheduler = lr_scheduler.ReduceLROnPlateau(optimizer, mode=\"min\", factor=0.7, patience=5)\n",
    "\n",
    "#### BATCH PROCESSING ####\n",
    "def process_batch(batch):\n",
    "\n",
    "    ((x_batch, pert_batch), _), y_batch = batch\n",
    "    y_batch = y_batch.to(device)\n",
    "    y_pred = model_final(x_batch, pert_batch, device) # TODO: Send to device the x in model?\n",
    "\n",
    "    loss = loss_fn(y_pred, y_batch)\n",
    "    return loss\n",
    "\n",
    "#### TENSORBOARD ####\n",
    "writer = SummaryWriter(\"./runs/final_test7/final_model\")\n",
    "\n",
    "#### RUN ####\n",
    "train_many_epochs(model_final, train_dataloader, val_dataloader, epochs, \n",
    "                  process_batch, optimizer, scheduler, writer=writer, device=device)"
   ]
  },
  {
   "cell_type": "code",
   "execution_count": 7,
   "metadata": {},
   "outputs": [],
   "source": [
    "p=model_final.parameters()"
   ]
  },
  {
   "cell_type": "code",
   "execution_count": 8,
   "metadata": {},
   "outputs": [
    {
     "data": {
      "text/plain": [
       "torch.Size([2000, 16049])"
      ]
     },
     "execution_count": 8,
     "metadata": {},
     "output_type": "execute_result"
    }
   ],
   "source": [
    "next(p).shape"
   ]
  }
 ],
 "metadata": {
  "kernelspec": {
   "display_name": "cheminfo",
   "language": "python",
   "name": "python3"
  },
  "language_info": {
   "codemirror_mode": {
    "name": "ipython",
    "version": 3
   },
   "file_extension": ".py",
   "mimetype": "text/x-python",
   "name": "python",
   "nbconvert_exporter": "python",
   "pygments_lexer": "ipython3",
   "version": "3.11.4"
  }
 },
 "nbformat": 4,
 "nbformat_minor": 2
}
