{
 "cells": [
  {
   "cell_type": "code",
   "execution_count": 1,
   "metadata": {},
   "outputs": [
    {
     "name": "stdout",
     "output_type": "stream",
     "text": [
      "WARNING:tensorflow:From c:\\Users\\ghanb\\anaconda3\\envs\\cheminfo\\Lib\\site-packages\\keras\\src\\losses.py:2976: The name tf.losses.sparse_softmax_cross_entropy is deprecated. Please use tf.compat.v1.losses.sparse_softmax_cross_entropy instead.\n",
      "\n"
     ]
    }
   ],
   "source": [
    "from dataset import *\n",
    "from train import *\n",
    "from model import *\n",
    "from features import *\n",
    "\n",
    "import pickle as pkl\n",
    "\n",
    "import numpy as np\n",
    "\n",
    "import torch\n",
    "from torch.optim import SGD, Adam\n",
    "import torch.optim.lr_scheduler as lr_scheduler\n",
    "from torch.utils.data import DataLoader\n",
    "from torch.utils.tensorboard import SummaryWriter\n",
    "\n",
    "data_dir = \"../data\""
   ]
  },
  {
   "cell_type": "code",
   "execution_count": 2,
   "metadata": {},
   "outputs": [
    {
     "name": "stdout",
     "output_type": "stream",
     "text": [
      "(21255, 147, 6)\n",
      "dict_keys(['gene_names', 'mols', 'cell_types'])\n",
      "['T cells CD4+', 'T regulatory cells', 'T cells CD8+', 'NK cells', 'B cells', 'Myeloid cells']\n",
      "(18211, 146, 4)\n",
      "(18211, 17, 2)\n"
     ]
    }
   ],
   "source": [
    "with open(f\"{data_dir}/adata.npy\", \"rb\") as f:\n",
    "    data = np.load(f)[0].squeeze()\n",
    "    print(data.shape)\n",
    "with open(f\"{data_dir}/adata.npy.meta.pickle\", \"rb\") as f:\n",
    "    meta = pkl.load(f)\n",
    "    print(meta.keys())\n",
    "    print(meta[\"cell_types\"])\n",
    "\n",
    "with open(f\"{data_dir}/de_train.npy\", \"rb\") as f:\n",
    "    de_train = np.load(f)\n",
    "    print(de_train.shape)\n",
    "with open(f\"{data_dir}/de_val.npy\", \"rb\") as f:\n",
    "    de_val = np.load(f)\n",
    "    print(de_val.shape)"
   ]
  },
  {
   "cell_type": "code",
   "execution_count": 3,
   "metadata": {},
   "outputs": [],
   "source": [
    "mtypes = meta[\"mols\"]\n",
    "mol_transforms = {\n",
    "    \"morgan2_fp\": TransformList([Sm2Smiles(\"../config/sm_smiles.csv\", mode=\"path\"), Smiles2Mol(), Mol2Morgan(2048, 2)]),\n",
    "    \"morgan3_fp\": TransformList([Sm2Smiles(\"../config/sm_smiles.csv\", mode=\"path\"), Smiles2Mol(), Mol2Morgan(2048, 3)]),\n",
    "    \"one_hot\": TransformList([Type2OneHot(mtypes)])\n",
    "}\n",
    "\n",
    "ctypes = meta[\"cell_types\"]\n",
    "\n",
    "gene_num = len(meta[\"gene_names\"])"
   ]
  },
  {
   "cell_type": "code",
   "execution_count": 4,
   "metadata": {},
   "outputs": [],
   "source": [
    "# dataset_train = C2PDataset(data, meta, sm_transforms=mol_transforms)\n",
    "# dataset_val = C2PDataset(data, meta, sm_transforms=mol_transforms)\n",
    "# dataset_train.configure(sm_out_feature=\"morgan2_fp\", mode=\"train\", return_y=False)\n",
    "# dataset_val.configure(sm_out_feature=\"morgan2_fp\", mode=\"validation\")\n",
    "# d = CP2DEDataset(de_train, dataset_train)"
   ]
  },
  {
   "cell_type": "code",
   "execution_count": 5,
   "metadata": {},
   "outputs": [
    {
     "name": "stderr",
     "output_type": "stream",
     "text": [
      "100%|██████████| 10/10 [00:16<00:00,  1.60s/it]\n"
     ]
    }
   ],
   "source": [
    "#### LOADERS, DATA ####\n",
    "dataset_train = C2PDataset(data, meta, sm_transforms=mol_transforms)\n",
    "dataset_val = C2PDataset(data, meta, sm_transforms=mol_transforms)\n",
    "dataset_train.configure(sm_out_feature=\"morgan2_fp\", mode=\"train\")\n",
    "dataset_val.configure(sm_out_feature=\"morgan2_fp\", mode=\"validation\")\n",
    "train_dataloader = DataLoader(dataset_train, 32)\n",
    "val_dataloader = DataLoader(dataset_val, 32)\n",
    "\n",
    "#### MODEL ####\n",
    "model = Control2Pert(in_dim=len(dataset_train.gene_names_control), pert_dim=2048, \n",
    "                     bottle_dim=500, out_dim=len(dataset_train.gene_names_control))\n",
    "\n",
    "#### TRAINING ####\n",
    "lr = 0.01\n",
    "epochs = 10\n",
    "device = \"cuda:0\"\n",
    "\n",
    "loss_fn = loss_mrrmse\n",
    "optimizer = Adam(model.parameters(), lr=lr, weight_decay=2e-4)\n",
    "scheduler = lr_scheduler.ReduceLROnPlateau(optimizer, mode=\"min\", factor=0.8, patience=7)\n",
    "\n",
    "#### BATCH PROCESSING ####\n",
    "def process_batch(batch):\n",
    "\n",
    "    x_batch, (y_batch, mask_batch) = batch\n",
    "    y_batch = y_batch.to(device)\n",
    "    mask_batch = mask_batch.to(device)\n",
    "    y_pred = model(*x_batch, device) # TODO: Send to device the x in model?\n",
    "\n",
    "    loss = loss_fn(y_pred, y_batch, mask_batch)\n",
    "    return loss\n",
    "\n",
    "#### TENSORBOARD ####\n",
    "writer = SummaryWriter(\"./runs/test16\")\n",
    "\n",
    "#### RUN ####\n",
    "train_many_epochs(model, train_dataloader, val_dataloader, epochs, \n",
    "                  process_batch, optimizer, scheduler, writer=writer, device=device)"
   ]
  },
  {
   "cell_type": "code",
   "execution_count": 6,
   "metadata": {},
   "outputs": [
    {
     "ename": "AttributeError",
     "evalue": "'Control2Pert' object has no attribute 'out_dim'",
     "output_type": "error",
     "traceback": [
      "\u001b[1;31m---------------------------------------------------------------------------\u001b[0m",
      "\u001b[1;31mAttributeError\u001b[0m                            Traceback (most recent call last)",
      "\u001b[1;32mc:\\Users\\ghanb\\Desktop\\Main\\Projects\\Kaggle_SCP\\final\\test.ipynb Cell 6\u001b[0m line \u001b[0;36m8\n\u001b[0;32m      <a href='vscode-notebook-cell:/c%3A/Users/ghanb/Desktop/Main/Projects/Kaggle_SCP/final/test.ipynb#W5sZmlsZQ%3D%3D?line=4'>5</a>\u001b[0m val_dataloader \u001b[39m=\u001b[39m DataLoader(dataset_final_val, \u001b[39m32\u001b[39m)\n\u001b[0;32m      <a href='vscode-notebook-cell:/c%3A/Users/ghanb/Desktop/Main/Projects/Kaggle_SCP/final/test.ipynb#W5sZmlsZQ%3D%3D?line=6'>7</a>\u001b[0m \u001b[39m#### MODEL ####\u001b[39;00m\n\u001b[1;32m----> <a href='vscode-notebook-cell:/c%3A/Users/ghanb/Desktop/Main/Projects/Kaggle_SCP/final/test.ipynb#W5sZmlsZQ%3D%3D?line=7'>8</a>\u001b[0m model_final \u001b[39m=\u001b[39m ContPert2DE(model, layers_sizes\u001b[39m=\u001b[39;49m[\u001b[39m200\u001b[39;49m, \u001b[39m200\u001b[39;49m], out_dim\u001b[39m=\u001b[39;49mde_train\u001b[39m.\u001b[39;49mshape[\u001b[39m0\u001b[39;49m])\n\u001b[0;32m     <a href='vscode-notebook-cell:/c%3A/Users/ghanb/Desktop/Main/Projects/Kaggle_SCP/final/test.ipynb#W5sZmlsZQ%3D%3D?line=9'>10</a>\u001b[0m \u001b[39m#### TRAINING ####\u001b[39;00m\n\u001b[0;32m     <a href='vscode-notebook-cell:/c%3A/Users/ghanb/Desktop/Main/Projects/Kaggle_SCP/final/test.ipynb#W5sZmlsZQ%3D%3D?line=10'>11</a>\u001b[0m lr \u001b[39m=\u001b[39m \u001b[39m0.01\u001b[39m\n",
      "File \u001b[1;32mc:\\Users\\ghanb\\Desktop\\Main\\Projects\\Kaggle_SCP\\final\\model.py:18\u001b[0m, in \u001b[0;36mContPert2DE.__init__\u001b[1;34m(self, c2p_model, layers_sizes, out_dim)\u001b[0m\n\u001b[0;32m     15\u001b[0m \u001b[39msuper\u001b[39m()\u001b[39m.\u001b[39m\u001b[39m__init__\u001b[39m()\n\u001b[0;32m     17\u001b[0m \u001b[39mself\u001b[39m\u001b[39m.\u001b[39mc2p_model \u001b[39m=\u001b[39m c2p_model\n\u001b[1;32m---> 18\u001b[0m \u001b[39mself\u001b[39m\u001b[39m.\u001b[39min_dim \u001b[39m=\u001b[39m \u001b[39mself\u001b[39;49m\u001b[39m.\u001b[39;49mc2p_model\u001b[39m.\u001b[39;49mout_dim\n\u001b[0;32m     19\u001b[0m \u001b[39mself\u001b[39m\u001b[39m.\u001b[39mlayers \u001b[39m=\u001b[39m nn\u001b[39m.\u001b[39mModuleList(\n\u001b[0;32m     20\u001b[0m     [nn\u001b[39m.\u001b[39mLinear(\u001b[39mself\u001b[39m\u001b[39m.\u001b[39min_dim, layers_sizes[\u001b[39m0\u001b[39m])] \u001b[39m+\u001b[39m \\\n\u001b[0;32m     21\u001b[0m     [nn\u001b[39m.\u001b[39mLinear(layers_sizes[i], layers_sizes[i\u001b[39m+\u001b[39m\u001b[39m1\u001b[39m]) \u001b[39mfor\u001b[39;00m i \u001b[39min\u001b[39;00m \u001b[39mrange\u001b[39m(\u001b[39mlen\u001b[39m(layers_sizes)\u001b[39m-\u001b[39m\u001b[39m1\u001b[39m)] \u001b[39m+\u001b[39m \\\n\u001b[0;32m     22\u001b[0m     [nn\u001b[39m.\u001b[39mLinear(layers_sizes[\u001b[39m-\u001b[39m\u001b[39m1\u001b[39m], out_dim)]\n\u001b[0;32m     23\u001b[0m )\n\u001b[0;32m     25\u001b[0m \u001b[39mself\u001b[39m\u001b[39m.\u001b[39mactivation \u001b[39m=\u001b[39m nn\u001b[39m.\u001b[39mReLU()\n",
      "File \u001b[1;32mc:\\Users\\ghanb\\anaconda3\\envs\\cheminfo\\Lib\\site-packages\\torch\\nn\\modules\\module.py:1614\u001b[0m, in \u001b[0;36mModule.__getattr__\u001b[1;34m(self, name)\u001b[0m\n\u001b[0;32m   1612\u001b[0m     \u001b[39mif\u001b[39;00m name \u001b[39min\u001b[39;00m modules:\n\u001b[0;32m   1613\u001b[0m         \u001b[39mreturn\u001b[39;00m modules[name]\n\u001b[1;32m-> 1614\u001b[0m \u001b[39mraise\u001b[39;00m \u001b[39mAttributeError\u001b[39;00m(\u001b[39m\"\u001b[39m\u001b[39m'\u001b[39m\u001b[39m{}\u001b[39;00m\u001b[39m'\u001b[39m\u001b[39m object has no attribute \u001b[39m\u001b[39m'\u001b[39m\u001b[39m{}\u001b[39;00m\u001b[39m'\u001b[39m\u001b[39m\"\u001b[39m\u001b[39m.\u001b[39mformat(\n\u001b[0;32m   1615\u001b[0m     \u001b[39mtype\u001b[39m(\u001b[39mself\u001b[39m)\u001b[39m.\u001b[39m\u001b[39m__name__\u001b[39m, name))\n",
      "\u001b[1;31mAttributeError\u001b[0m: 'Control2Pert' object has no attribute 'out_dim'"
     ]
    }
   ],
   "source": [
    "#### LOADERS, DATA ####\n",
    "dataset_final_train = CP2DEDataset(de_train, dataset_train)\n",
    "dataset_final_val = CP2DEDataset(de_val, dataset_val)\n",
    "train_dataloader = DataLoader(dataset_final_train, 32)\n",
    "val_dataloader = DataLoader(dataset_final_val, 32)\n",
    "\n",
    "#### MODEL ####\n",
    "model_final = ContPert2DE(model, len(dataset_train.gene_names_control),\n",
    "                          layers_sizes=[200, 200], out_dim=de_train.shape[0])\n",
    "\n",
    "#### TRAINING ####\n",
    "lr = 0.01\n",
    "epochs = 10\n",
    "device = \"cuda:0\"\n",
    "\n",
    "loss_fn = loss_mrrmse\n",
    "optimizer = Adam(model_final.parameters(), lr=lr, weight_decay=2e-4)\n",
    "scheduler = lr_scheduler.ReduceLROnPlateau(optimizer, mode=\"min\", factor=0.8, patience=7)\n",
    "\n",
    "#### BATCH PROCESSING ####\n",
    "def process_batch(batch):\n",
    "\n",
    "    (x_batch, pert_batch), y_batch = batch\n",
    "    y_batch = y_batch.to(device)\n",
    "    y_pred = model(x_batch, pert_batch, device) # TODO: Send to device the x in model?\n",
    "\n",
    "    loss = loss_fn(y_pred, y_batch)\n",
    "    return loss\n",
    "\n",
    "#### TENSORBOARD ####\n",
    "writer = SummaryWriter(\"./runs/test17\")\n",
    "\n",
    "#### RUN ####\n",
    "train_many_epochs(model_final, train_dataloader, val_dataloader, epochs, \n",
    "                  process_batch, optimizer, scheduler, writer=writer, device=device)"
   ]
  },
  {
   "cell_type": "code",
   "execution_count": null,
   "metadata": {},
   "outputs": [],
   "source": []
  }
 ],
 "metadata": {
  "kernelspec": {
   "display_name": "cheminfo",
   "language": "python",
   "name": "python3"
  },
  "language_info": {
   "codemirror_mode": {
    "name": "ipython",
    "version": 3
   },
   "file_extension": ".py",
   "mimetype": "text/x-python",
   "name": "python",
   "nbconvert_exporter": "python",
   "pygments_lexer": "ipython3",
   "version": "3.11.4"
  }
 },
 "nbformat": 4,
 "nbformat_minor": 2
}
